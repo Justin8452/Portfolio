{
 "cells": [
  {
   "cell_type": "code",
   "execution_count": 3,
   "metadata": {},
   "outputs": [],
   "source": [
    "import pandas as pd"
   ]
  },
  {
   "cell_type": "code",
   "execution_count": 4,
   "metadata": {},
   "outputs": [],
   "source": [
    "# importing data to be cleaned\r\n",
    "\r\n",
    "df = pd.read_excel('uncleaned_computer_jobs.xlsx')"
   ]
  },
  {
   "cell_type": "code",
   "execution_count": 5,
   "metadata": {},
   "outputs": [
    {
     "data": {
      "text/plain": [
       "index                0\n",
       "Job Title            0\n",
       "Salary Estimate      0\n",
       "Job Description      0\n",
       "Company Name         0\n",
       "Rating               0\n",
       "Location             0\n",
       "Headquarters         0\n",
       "Size                 0\n",
       "Founded              0\n",
       "Type of ownership    0\n",
       "Industry             0\n",
       "Sector               0\n",
       "Revenue              0\n",
       "Competitors          0\n",
       "dtype: int64"
      ]
     },
     "execution_count": 5,
     "metadata": {},
     "output_type": "execute_result"
    }
   ],
   "source": [
    "# checking for null values\r\n",
    "\r\n",
    "df.isnull().sum()"
   ]
  },
  {
   "cell_type": "code",
   "execution_count": 245,
   "metadata": {},
   "outputs": [],
   "source": [
    "# removing unnecessary columns\r\n",
    "\r\n",
    "df.drop('Job Description', axis=1, inplace=True)"
   ]
  },
  {
   "cell_type": "code",
   "execution_count": 246,
   "metadata": {},
   "outputs": [],
   "source": [
    "# replacing spaces in column names with underscores\r\n",
    "\r\n",
    "df.columns=df.columns.str.replace(' ', '_')"
   ]
  },
  {
   "cell_type": "code",
   "execution_count": 247,
   "metadata": {},
   "outputs": [],
   "source": [
    "# adding \"_USD\" to Salary_Estimate \r\n",
    "\r\n",
    "df.rename(columns={'Salary_Estimate':'Salary_Estimate_USD'}, inplace=True)"
   ]
  },
  {
   "cell_type": "code",
   "execution_count": 248,
   "metadata": {},
   "outputs": [],
   "source": [
    "# removing dollar sign from Salry_Estimate_USD column\r\n",
    "\r\n",
    "df.Salary_Estimate_USD = df.Salary_Estimate_USD.str.replace('$', '', regex=True)"
   ]
  },
  {
   "cell_type": "code",
   "execution_count": 249,
   "metadata": {},
   "outputs": [],
   "source": [
    "# adding \"_USD\" to Revenue\r\n",
    "df.rename(columns={'Revenue':'Revenue_USD'}, inplace=True)"
   ]
  },
  {
   "cell_type": "code",
   "execution_count": 250,
   "metadata": {},
   "outputs": [],
   "source": [
    "# removing dollar sign from Revenue_USD column\r\n",
    "\r\n",
    "df.Revenue_USD = df.Revenue_USD.str.replace('$', '', regex=True)"
   ]
  },
  {
   "cell_type": "code",
   "execution_count": 251,
   "metadata": {},
   "outputs": [
    {
     "name": "stderr",
     "output_type": "stream",
     "text": [
      "<ipython-input-251-c2108853c4f0>:2: FutureWarning: The default value of regex will change from True to False in a future version.\n",
      "  df.Revenue_USD = df.Revenue_USD.str.replace(r\" \\(.*\\)\",\"\")\n"
     ]
    }
   ],
   "source": [
    "# removing \"(USD)\" from Revenue_USD column\r\n",
    "df.Revenue_USD = df.Revenue_USD.str.replace(r\" \\(.*\\)\",\"\")"
   ]
  },
  {
   "cell_type": "code",
   "execution_count": 252,
   "metadata": {},
   "outputs": [],
   "source": [
    "# replacing NaN with \"Unknown/Non-Applicable\" in Revenue column\r\n",
    "\r\n",
    "df.Revenue_USD.fillna('Unknown/Non-Applicable', inplace=True)"
   ]
  },
  {
   "cell_type": "code",
   "execution_count": 253,
   "metadata": {},
   "outputs": [],
   "source": [
    "# renaming Size to Number_of_Emlpoyees\r\n",
    "\r\n",
    "df.rename(columns={'Size':'Number_of_Emlpoyees'}, inplace=True)"
   ]
  },
  {
   "cell_type": "code",
   "execution_count": 254,
   "metadata": {},
   "outputs": [],
   "source": [
    "# remvoing \"employees\" string from Number_of_Emlpoyees column\r\n",
    "\r\n",
    "df.Number_of_Emlpoyees = df.Number_of_Emlpoyees.str.replace('employees', '')"
   ]
  },
  {
   "cell_type": "code",
   "execution_count": 255,
   "metadata": {},
   "outputs": [],
   "source": [
    "# splitting salary from \"(Glassdoor)\" from Salary_Estimate_USD column\r\n",
    "\r\n",
    "df[['Salary_Estimate_USD', 'Salary_Estimate_Source']]=df.Salary_Estimate_USD.str.split(' ', n=1, expand=True)"
   ]
  },
  {
   "cell_type": "code",
   "execution_count": 256,
   "metadata": {},
   "outputs": [
    {
     "name": "stderr",
     "output_type": "stream",
     "text": [
      "<ipython-input-256-1cd6e23b71f2>:3: FutureWarning: The default value of regex will change from True to False in a future version. In addition, single character regular expressions will*not* be treated as literal strings when regex=True.\n",
      "  df.Salary_Estimate_Source = df.Salary_Estimate_Source.str.replace('(','')\n",
      "<ipython-input-256-1cd6e23b71f2>:4: FutureWarning: The default value of regex will change from True to False in a future version. In addition, single character regular expressions will*not* be treated as literal strings when regex=True.\n",
      "  df.Salary_Estimate_Source = df.Salary_Estimate_Source.str.replace(')','')\n"
     ]
    }
   ],
   "source": [
    "# removing parenthesis from Salary_Estimate_Source column\r\n",
    "\r\n",
    "df.Salary_Estimate_Source = df.Salary_Estimate_Source.str.replace('(','')\r\n",
    "df.Salary_Estimate_Source = df.Salary_Estimate_Source.str.replace(')','')"
   ]
  },
  {
   "cell_type": "code",
   "execution_count": 257,
   "metadata": {},
   "outputs": [
    {
     "data": {
      "text/plain": [
       "Index(['index', 'Job_Title', 'Salary_Estimate_USD', 'Company_Name', 'Rating',\n",
       "       'Location', 'Headquarters', 'Number_of_Emlpoyees', 'Founded',\n",
       "       'Type_of_ownership', 'Industry', 'Sector', 'Revenue_USD', 'Competitors',\n",
       "       'Salary_Estimate_Source'],\n",
       "      dtype='object')"
      ]
     },
     "execution_count": 257,
     "metadata": {},
     "output_type": "execute_result"
    }
   ],
   "source": [
    "# updating index of Salary_Estimate_Source Part 1: gather columns\r\n",
    "df.columns"
   ]
  },
  {
   "cell_type": "code",
   "execution_count": 258,
   "metadata": {},
   "outputs": [],
   "source": [
    "# updating index of Salary_Estimate_Source Part 2: move Salary_Estimate_Source after Salary_Estimate\r\n",
    "\r\n",
    "df = df.reindex(columns=[\r\n",
    "       'index', 'Job_Title', 'Salary_Estimate_USD', 'Salary_Estimate_Source', \r\n",
    "       'Company_Name', 'Rating', 'Location', 'Headquarters', 'Number_of_Emlpoyees', 'Founded',\r\n",
    "       'Type_of_ownership', 'Industry', 'Sector', 'Revenue_USD', 'Competitors'])"
   ]
  },
  {
   "cell_type": "code",
   "execution_count": 259,
   "metadata": {},
   "outputs": [
    {
     "name": "stderr",
     "output_type": "stream",
     "text": [
      "<ipython-input-259-85fe6a35af1a>:3: FutureWarning: The default value of regex will change from True to False in a future version.\n",
      "  df.Salary_Estimate_Source = df.Salary_Estimate_Source.str.replace('est.', '')\n"
     ]
    }
   ],
   "source": [
    "# remvoing \"est.\" from Salary_Estimate_Source column\r\n",
    "\r\n",
    "df.Salary_Estimate_Source = df.Salary_Estimate_Source.str.replace('est.', '')"
   ]
  },
  {
   "cell_type": "code",
   "execution_count": 260,
   "metadata": {},
   "outputs": [],
   "source": [
    "# splitting Location into Location_City and Location_State\r\n",
    "\r\n",
    "df[['Location_City', 'Location_State']]=df.Location.str.split(',', n=1, expand=True) "
   ]
  },
  {
   "cell_type": "code",
   "execution_count": 261,
   "metadata": {},
   "outputs": [],
   "source": [
    "# removing column Location and reordering columns Location_City and Location_State\r\n",
    "\r\n",
    "df.drop('Location', axis =1, inplace = True)\r\n",
    "df = df.reindex(columns=[\r\n",
    "       'index', 'Job_Title', 'Salary_Estimate_USD', 'Salary_Estimate_Source', \r\n",
    "       'Company_Name', 'Rating', 'Location_City', 'Location_State', 'Headquarters', \r\n",
    "       'Number_of_Emlpoyees', 'Founded', 'Type_of_ownership', 'Industry', 'Sector', \r\n",
    "       'Revenue_USD', 'Competitors'])"
   ]
  },
  {
   "cell_type": "code",
   "execution_count": 263,
   "metadata": {},
   "outputs": [],
   "source": [
    "# splitting Headquarters into Headquarters_City and Headquarters_State/Country\r\n",
    "# removing column Location and reordering columns Headquarters_City and Headquarters_State/Country\r\n",
    "\r\n",
    "df[['Headquarters_City', 'Headquarters_State/Country']]=df.Headquarters.str.split(',', n=1, expand=True); \r\n",
    "\r\n",
    "df.drop('Headquarters', axis =1, inplace = True);\r\n",
    "\r\n",
    "df = df.reindex(columns=[\r\n",
    "       'index', 'Job_Title', 'Salary_Estimate_USD', 'Salary_Estimate_Source', \r\n",
    "       'Company_Name', 'Rating', 'Location_City', 'Location_State', 'Headquarters_City', \r\n",
    "       'Headquarters_State/Country', 'Number_of_Emlpoyees', 'Founded', 'Type_of_ownership', 'Industry', 'Sector', \r\n",
    "       'Revenue_USD', 'Competitors']);"
   ]
  },
  {
   "cell_type": "code",
   "execution_count": 272,
   "metadata": {},
   "outputs": [],
   "source": [
    "# fixing incorrect data\r\n",
    "\r\n",
    "df.Rating = df.Rating.mask(df.Rating == -1.0, 1.0)"
   ]
  },
  {
   "cell_type": "code",
   "execution_count": 274,
   "metadata": {},
   "outputs": [],
   "source": [
    "# updating all \"-1\" to null value\r\n",
    "\r\n",
    "df = df.mask(df == -1, )"
   ]
  },
  {
   "cell_type": "code",
   "execution_count": 276,
   "metadata": {},
   "outputs": [],
   "source": [
    "# replacing all NaN values with \"Unknown/Non-Applicable\"\r\n",
    "\r\n",
    "df.fillna('Unknown/Non-Applicable', inplace=True)"
   ]
  },
  {
   "cell_type": "code",
   "execution_count": 285,
   "metadata": {},
   "outputs": [],
   "source": [
    "# updating Founded column datatype from object to int\r\n",
    "\r\n",
    "df.Founded = df.Founded.replace('Unknown/Non-Applicable', '0')\r\n",
    "df.Founded= df.Founded.astype(int)"
   ]
  }
 ],
 "metadata": {
  "interpreter": {
   "hash": "ff39433d367775670857b5a26fe0f62904f7bab0aa1764437f86463c08ac313f"
  },
  "kernelspec": {
   "display_name": "Python 3.8.8 64-bit ('base': conda)",
   "name": "python3"
  },
  "language_info": {
   "codemirror_mode": {
    "name": "ipython",
    "version": 3
   },
   "file_extension": ".py",
   "mimetype": "text/x-python",
   "name": "python",
   "nbconvert_exporter": "python",
   "pygments_lexer": "ipython3",
   "version": "3.8.8"
  },
  "orig_nbformat": 4
 },
 "nbformat": 4,
 "nbformat_minor": 2
}